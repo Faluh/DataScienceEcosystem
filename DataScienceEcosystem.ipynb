{
 "cells": [
  {
   "cell_type": "markdown",
   "id": "5ae60b8d",
   "metadata": {},
   "source": [
    "# Data Science Tools and Ecosystem\n",
    "\n",
    "\n",
    "\n",
    "\n",
    "\n"
   ]
  },
  {
   "cell_type": "markdown",
   "id": "bb672285",
   "metadata": {},
   "source": [
    "In this notebook, Data Science Tools and Ecosystem are summarized.\n",
    "\n",
    "\n"
   ]
  },
  {
   "cell_type": "markdown",
   "id": "0b478b22",
   "metadata": {},
   "source": [
    "Some of the popular languages that Data Scientists use are:\n",
    "    \n",
    "    1. Python\n",
    "    2. R Language\n",
    "    3. SQL\n",
    "    4. Java\n",
    "    5. Scala\n",
    "    \n",
    "    \n",
    "    "
   ]
  },
  {
   "cell_type": "markdown",
   "id": "24d6c0e9",
   "metadata": {},
   "source": [
    "Some of the commonly used libraries used by Data Scientists inlude:\n",
    "\n",
    "1. NumPy\n",
    "2. Matplotlib\n",
    "3. TensorFlow\n",
    "4. PyTorch\n",
    "5. Pandas\n"
   ]
  },
  {
   "cell_type": "markdown",
   "id": "5e84d528",
   "metadata": {},
   "source": [
    "| Data Science Tools |\n",
    "|--------------------|\n",
    "| Jupyter Notebook |\n",
    "| R Studio |\n",
    "| GitHub |"
   ]
  },
  {
   "cell_type": "markdown",
   "id": "a9d8416f",
   "metadata": {},
   "source": [
    "### Below are a few examples of evaluating arithmetic expressions in Python\n",
    "\n"
   ]
  },
  {
   "cell_type": "code",
   "execution_count": 4,
   "id": "531304f6",
   "metadata": {},
   "outputs": [
    {
     "data": {
      "text/plain": [
       "17"
      ]
     },
     "execution_count": 4,
     "metadata": {},
     "output_type": "execute_result"
    }
   ],
   "source": [
    "# This is a simple arithmetic expression using both multiplication and addition.\n",
    "\n",
    "(3*4)+5"
   ]
  },
  {
   "cell_type": "code",
   "execution_count": 6,
   "id": "112023f1",
   "metadata": {},
   "outputs": [
    {
     "data": {
      "text/plain": [
       "3.3333333333333335"
      ]
     },
     "execution_count": 6,
     "metadata": {},
     "output_type": "execute_result"
    }
   ],
   "source": [
    "# This will convert 200 minutes into hours\n",
    "\n",
    "200/60\n",
    "    \n",
    "    "
   ]
  },
  {
   "cell_type": "markdown",
   "id": "60f10b2e",
   "metadata": {},
   "source": [
    "**Objectives:**\n",
    "\n",
    "- Learn about the common languages used by Data Scientists\n",
    "- Learn about commonly used libraries for Data Scientists\n",
    "- Learn which tools Data Scientists use \n",
    "- See how to use simple arithmetic expressions in Python"
   ]
  },
  {
   "cell_type": "markdown",
   "id": "8990f608",
   "metadata": {},
   "source": [
    "**Author:** Matthew Yong "
   ]
  },
  {
   "cell_type": "code",
   "execution_count": null,
   "id": "7d776888",
   "metadata": {},
   "outputs": [],
   "source": []
  }
 ],
 "metadata": {
  "kernelspec": {
   "display_name": "Python 3 (ipykernel)",
   "language": "python",
   "name": "python3"
  },
  "language_info": {
   "codemirror_mode": {
    "name": "ipython",
    "version": 3
   },
   "file_extension": ".py",
   "mimetype": "text/x-python",
   "name": "python",
   "nbconvert_exporter": "python",
   "pygments_lexer": "ipython3",
   "version": "3.11.4"
  }
 },
 "nbformat": 4,
 "nbformat_minor": 5
}
